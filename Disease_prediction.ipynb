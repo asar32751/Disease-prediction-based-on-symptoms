{
  "nbformat": 4,
  "nbformat_minor": 0,
  "metadata": {
    "colab": {
      "name": "Disease prediction.ipynb",
      "provenance": [],
      "collapsed_sections": [],
      "include_colab_link": true
    },
    "kernelspec": {
      "display_name": "Python 3",
      "name": "python3"
    },
    "language_info": {
      "name": "python"
    }
  },
  "cells": [
    {
      "cell_type": "markdown",
      "metadata": {
        "id": "view-in-github",
        "colab_type": "text"
      },
      "source": [
        "<a href=\"https://colab.research.google.com/github/asar32751/Disease-prediction-based-on-symptoms/blob/main/Disease_prediction.ipynb\" target=\"_parent\"><img src=\"https://colab.research.google.com/assets/colab-badge.svg\" alt=\"Open In Colab\"/></a>"
      ]
    },
    {
      "cell_type": "code",
      "metadata": {
        "colab": {
          "base_uri": "https://localhost:8080/"
        },
        "id": "dhb3bqyzYkAr",
        "outputId": "c6d4dbf3-9104-4ebe-c8c0-76ae4b5c3dd0"
      },
      "source": [
        "from google.colab import drive\n",
        "drive.mount('/content/gdrive')"
      ],
      "execution_count": null,
      "outputs": [
        {
          "output_type": "stream",
          "text": [
            "Mounted at /content/gdrive\n"
          ],
          "name": "stdout"
        }
      ]
    },
    {
      "cell_type": "code",
      "metadata": {
        "id": "PyMrP19huqbH"
      },
      "source": [
        "import pandas as pd\n",
        "df=pd.read_excel('/content/gdrive/MyDrive/disease_prediction/Minor_project (1).xlsx')"
      ],
      "execution_count": null,
      "outputs": []
    },
    {
      "cell_type": "code",
      "metadata": {
        "id": "iZxwqZNuu97k"
      },
      "source": [
        "data=pd.DataFrame(df)"
      ],
      "execution_count": null,
      "outputs": []
    },
    {
      "cell_type": "code",
      "metadata": {
        "id": "4MHkv0_ivGc1"
      },
      "source": [
        "data=data.drop(['Unnamed: 1'],axis=1)\n",
        "data=data.drop([0],axis=0)"
      ],
      "execution_count": null,
      "outputs": []
    },
    {
      "cell_type": "code",
      "metadata": {
        "id": "ZnAIbxe7vJP4"
      },
      "source": [
        "data=data.drop(['Unnamed: 3','Unnamed: 9','Unnamed: 5','Unnamed: 6','Unnamed: 7'],axis=1)\n",
        "data=data.drop(['Unnamed: 10','Unnamed: 11','Unnamed: 13','Unnamed: 14','Unnamed: 15'],axis=1)\n",
        "data=data.drop(['Unnamed: 17','Unnamed: 18','Unnamed: 19','Unnamed: 21','Unnamed: 22'],axis=1)\n",
        "data=data.drop(['Unnamed: 23','Unnamed: 25','Unnamed: 27','Unnamed: 29','Unnamed: 31','Unnamed: 33','Unnamed: 35','Unnamed: 37','Unnamed: 39','Unnamed: 41','Unnamed: 42','Unnamed: 43','Unnamed: 44','Unnamed: 45','Unnamed: 46','Unnamed: 47'],axis=1)"
      ],
      "execution_count": null,
      "outputs": []
    },
    {
      "cell_type": "code",
      "metadata": {
        "colab": {
          "base_uri": "https://localhost:8080/",
          "height": 326
        },
        "id": "QA3QriaIvWMc",
        "outputId": "fee8634d-dc28-4cb4-edff-12ca9ac079d1"
      },
      "source": [
        "data.head()"
      ],
      "execution_count": null,
      "outputs": [
        {
          "output_type": "execute_result",
          "data": {
            "text/html": [
              "<div>\n",
              "<style scoped>\n",
              "    .dataframe tbody tr th:only-of-type {\n",
              "        vertical-align: middle;\n",
              "    }\n",
              "\n",
              "    .dataframe tbody tr th {\n",
              "        vertical-align: top;\n",
              "    }\n",
              "\n",
              "    .dataframe thead th {\n",
              "        text-align: right;\n",
              "    }\n",
              "</style>\n",
              "<table border=\"1\" class=\"dataframe\">\n",
              "  <thead>\n",
              "    <tr style=\"text-align: right;\">\n",
              "      <th></th>\n",
              "      <th>symptom_1</th>\n",
              "      <th>symptom_2</th>\n",
              "      <th>symptom_3</th>\n",
              "      <th>symptom_4</th>\n",
              "      <th>symptom_5</th>\n",
              "      <th>symptom_6</th>\n",
              "      <th>symptom_7</th>\n",
              "      <th>symptom_8</th>\n",
              "      <th>symptom_9</th>\n",
              "      <th>symptom_10</th>\n",
              "      <th>symptom_11</th>\n",
              "      <th>symptom_12</th>\n",
              "      <th>symptom_13</th>\n",
              "      <th>symptom_14</th>\n",
              "      <th>symptom_15</th>\n",
              "      <th>Diseases Name</th>\n",
              "    </tr>\n",
              "  </thead>\n",
              "  <tbody>\n",
              "    <tr>\n",
              "      <th>1</th>\n",
              "      <td>Fever</td>\n",
              "      <td>Reorbital pain</td>\n",
              "      <td>Myalgra</td>\n",
              "      <td>Break Bone Fever</td>\n",
              "      <td>Nausea</td>\n",
              "      <td>Dehydration</td>\n",
              "      <td>Rash</td>\n",
              "      <td>Restlessness</td>\n",
              "      <td>Mucosab bleeding</td>\n",
              "      <td>Hepatomegaly</td>\n",
              "      <td>Ascifes</td>\n",
              "      <td>Death</td>\n",
              "      <td>NaN</td>\n",
              "      <td>NaN</td>\n",
              "      <td>NaN</td>\n",
              "      <td>Dengue</td>\n",
              "    </tr>\n",
              "    <tr>\n",
              "      <th>2</th>\n",
              "      <td>Fever</td>\n",
              "      <td>Reorbital pain</td>\n",
              "      <td>Myalgra</td>\n",
              "      <td>Break Bone Fever</td>\n",
              "      <td>Nausea</td>\n",
              "      <td>Dehydration</td>\n",
              "      <td>Rash</td>\n",
              "      <td>Restlessness</td>\n",
              "      <td>Mucosab bleeding</td>\n",
              "      <td>Hepatomegaly</td>\n",
              "      <td>Death</td>\n",
              "      <td>NaN</td>\n",
              "      <td>NaN</td>\n",
              "      <td>NaN</td>\n",
              "      <td>NaN</td>\n",
              "      <td>Dengue</td>\n",
              "    </tr>\n",
              "    <tr>\n",
              "      <th>3</th>\n",
              "      <td>Fever</td>\n",
              "      <td>Reorbital pain</td>\n",
              "      <td>Myalgra</td>\n",
              "      <td>Break Bone Fever</td>\n",
              "      <td>Nausea</td>\n",
              "      <td>Dehydration</td>\n",
              "      <td>Rash</td>\n",
              "      <td>Restlessness</td>\n",
              "      <td>Mucosab bleeding</td>\n",
              "      <td>Ascifes</td>\n",
              "      <td>Death</td>\n",
              "      <td>NaN</td>\n",
              "      <td>NaN</td>\n",
              "      <td>NaN</td>\n",
              "      <td>NaN</td>\n",
              "      <td>Dengue</td>\n",
              "    </tr>\n",
              "    <tr>\n",
              "      <th>4</th>\n",
              "      <td>Fever</td>\n",
              "      <td>Reorbital pain</td>\n",
              "      <td>Myalgra</td>\n",
              "      <td>Break Bone Fever</td>\n",
              "      <td>Nausea</td>\n",
              "      <td>Dehydration</td>\n",
              "      <td>Rash</td>\n",
              "      <td>Restlessness</td>\n",
              "      <td>Mucosab bleeding</td>\n",
              "      <td>Death</td>\n",
              "      <td>NaN</td>\n",
              "      <td>NaN</td>\n",
              "      <td>NaN</td>\n",
              "      <td>NaN</td>\n",
              "      <td>NaN</td>\n",
              "      <td>Dengue</td>\n",
              "    </tr>\n",
              "    <tr>\n",
              "      <th>5</th>\n",
              "      <td>Fever</td>\n",
              "      <td>Reorbital pain</td>\n",
              "      <td>Myalgra</td>\n",
              "      <td>Break Bone Fever</td>\n",
              "      <td>Nausea</td>\n",
              "      <td>Dehydration</td>\n",
              "      <td>Rash</td>\n",
              "      <td>Restlessness</td>\n",
              "      <td>Hepatomegaly</td>\n",
              "      <td>Ascifes</td>\n",
              "      <td>Death</td>\n",
              "      <td>NaN</td>\n",
              "      <td>NaN</td>\n",
              "      <td>NaN</td>\n",
              "      <td>NaN</td>\n",
              "      <td>Dengue</td>\n",
              "    </tr>\n",
              "  </tbody>\n",
              "</table>\n",
              "</div>"
            ],
            "text/plain": [
              "  symptom_1       symptom_2 symptom_3  ... symptom_14 symptom_15 Diseases Name\n",
              "1     Fever  Reorbital pain   Myalgra  ...        NaN        NaN        Dengue\n",
              "2     Fever  Reorbital pain   Myalgra  ...        NaN        NaN        Dengue\n",
              "3     Fever  Reorbital pain   Myalgra  ...        NaN        NaN        Dengue\n",
              "4     Fever  Reorbital pain   Myalgra  ...        NaN        NaN        Dengue\n",
              "5     Fever  Reorbital pain   Myalgra  ...        NaN        NaN        Dengue\n",
              "\n",
              "[5 rows x 16 columns]"
            ]
          },
          "metadata": {
            "tags": []
          },
          "execution_count": 10
        }
      ]
    },
    {
      "cell_type": "code",
      "metadata": {
        "id": "C41b1uxbvZbd"
      },
      "source": [
        "data=data.drop(['symptom_12','symptom_13','symptom_14','symptom_15'],axis=1)\n"
      ],
      "execution_count": null,
      "outputs": []
    },
    {
      "cell_type": "code",
      "metadata": {
        "colab": {
          "base_uri": "https://localhost:8080/",
          "height": 786
        },
        "id": "XVrXE_QLvcgJ",
        "outputId": "16f3da19-d0cd-4d9a-af7b-43d4e2f03c8d"
      },
      "source": [
        "data=data.fillna(0)\n",
        "data.head(15)"
      ],
      "execution_count": null,
      "outputs": [
        {
          "output_type": "execute_result",
          "data": {
            "text/html": [
              "<div>\n",
              "<style scoped>\n",
              "    .dataframe tbody tr th:only-of-type {\n",
              "        vertical-align: middle;\n",
              "    }\n",
              "\n",
              "    .dataframe tbody tr th {\n",
              "        vertical-align: top;\n",
              "    }\n",
              "\n",
              "    .dataframe thead th {\n",
              "        text-align: right;\n",
              "    }\n",
              "</style>\n",
              "<table border=\"1\" class=\"dataframe\">\n",
              "  <thead>\n",
              "    <tr style=\"text-align: right;\">\n",
              "      <th></th>\n",
              "      <th>symptom_1</th>\n",
              "      <th>symptom_2</th>\n",
              "      <th>symptom_3</th>\n",
              "      <th>symptom_4</th>\n",
              "      <th>symptom_5</th>\n",
              "      <th>symptom_6</th>\n",
              "      <th>symptom_7</th>\n",
              "      <th>symptom_8</th>\n",
              "      <th>symptom_9</th>\n",
              "      <th>symptom_10</th>\n",
              "      <th>symptom_11</th>\n",
              "      <th>Diseases Name</th>\n",
              "    </tr>\n",
              "  </thead>\n",
              "  <tbody>\n",
              "    <tr>\n",
              "      <th>1</th>\n",
              "      <td>Fever</td>\n",
              "      <td>Reorbital pain</td>\n",
              "      <td>Myalgra</td>\n",
              "      <td>Break Bone Fever</td>\n",
              "      <td>Nausea</td>\n",
              "      <td>Dehydration</td>\n",
              "      <td>Rash</td>\n",
              "      <td>Restlessness</td>\n",
              "      <td>Mucosab bleeding</td>\n",
              "      <td>Hepatomegaly</td>\n",
              "      <td>Ascifes</td>\n",
              "      <td>Dengue</td>\n",
              "    </tr>\n",
              "    <tr>\n",
              "      <th>2</th>\n",
              "      <td>Fever</td>\n",
              "      <td>Reorbital pain</td>\n",
              "      <td>Myalgra</td>\n",
              "      <td>Break Bone Fever</td>\n",
              "      <td>Nausea</td>\n",
              "      <td>Dehydration</td>\n",
              "      <td>Rash</td>\n",
              "      <td>Restlessness</td>\n",
              "      <td>Mucosab bleeding</td>\n",
              "      <td>Hepatomegaly</td>\n",
              "      <td>Death</td>\n",
              "      <td>Dengue</td>\n",
              "    </tr>\n",
              "    <tr>\n",
              "      <th>3</th>\n",
              "      <td>Fever</td>\n",
              "      <td>Reorbital pain</td>\n",
              "      <td>Myalgra</td>\n",
              "      <td>Break Bone Fever</td>\n",
              "      <td>Nausea</td>\n",
              "      <td>Dehydration</td>\n",
              "      <td>Rash</td>\n",
              "      <td>Restlessness</td>\n",
              "      <td>Mucosab bleeding</td>\n",
              "      <td>Ascifes</td>\n",
              "      <td>Death</td>\n",
              "      <td>Dengue</td>\n",
              "    </tr>\n",
              "    <tr>\n",
              "      <th>4</th>\n",
              "      <td>Fever</td>\n",
              "      <td>Reorbital pain</td>\n",
              "      <td>Myalgra</td>\n",
              "      <td>Break Bone Fever</td>\n",
              "      <td>Nausea</td>\n",
              "      <td>Dehydration</td>\n",
              "      <td>Rash</td>\n",
              "      <td>Restlessness</td>\n",
              "      <td>Mucosab bleeding</td>\n",
              "      <td>Death</td>\n",
              "      <td>0</td>\n",
              "      <td>Dengue</td>\n",
              "    </tr>\n",
              "    <tr>\n",
              "      <th>5</th>\n",
              "      <td>Fever</td>\n",
              "      <td>Reorbital pain</td>\n",
              "      <td>Myalgra</td>\n",
              "      <td>Break Bone Fever</td>\n",
              "      <td>Nausea</td>\n",
              "      <td>Dehydration</td>\n",
              "      <td>Rash</td>\n",
              "      <td>Restlessness</td>\n",
              "      <td>Hepatomegaly</td>\n",
              "      <td>Ascifes</td>\n",
              "      <td>Death</td>\n",
              "      <td>Dengue</td>\n",
              "    </tr>\n",
              "    <tr>\n",
              "      <th>6</th>\n",
              "      <td>Fever</td>\n",
              "      <td>Reorbital pain</td>\n",
              "      <td>Myalgra</td>\n",
              "      <td>Break Bone Fever</td>\n",
              "      <td>Nausea</td>\n",
              "      <td>Dehydration</td>\n",
              "      <td>Rash</td>\n",
              "      <td>Restlessness</td>\n",
              "      <td>Hepatomegaly</td>\n",
              "      <td>Death</td>\n",
              "      <td>0</td>\n",
              "      <td>Dengue</td>\n",
              "    </tr>\n",
              "    <tr>\n",
              "      <th>7</th>\n",
              "      <td>Fever</td>\n",
              "      <td>Reorbital pain</td>\n",
              "      <td>Myalgra</td>\n",
              "      <td>Break Bone Fever</td>\n",
              "      <td>Nausea</td>\n",
              "      <td>Dehydration</td>\n",
              "      <td>Rash</td>\n",
              "      <td>Restlessness</td>\n",
              "      <td>Ascifes</td>\n",
              "      <td>Death</td>\n",
              "      <td>0</td>\n",
              "      <td>Dengue</td>\n",
              "    </tr>\n",
              "    <tr>\n",
              "      <th>8</th>\n",
              "      <td>Fever</td>\n",
              "      <td>Reorbital pain</td>\n",
              "      <td>Myalgra</td>\n",
              "      <td>Break Bone Fever</td>\n",
              "      <td>Nausea</td>\n",
              "      <td>Dehydration</td>\n",
              "      <td>Rash</td>\n",
              "      <td>Restlessness</td>\n",
              "      <td>Death</td>\n",
              "      <td>0</td>\n",
              "      <td>0</td>\n",
              "      <td>Dengue</td>\n",
              "    </tr>\n",
              "    <tr>\n",
              "      <th>9</th>\n",
              "      <td>Fever</td>\n",
              "      <td>Reorbital pain</td>\n",
              "      <td>Myalgra</td>\n",
              "      <td>Break Bone Fever</td>\n",
              "      <td>Nausea</td>\n",
              "      <td>Dehydration</td>\n",
              "      <td>Rash</td>\n",
              "      <td>Mucosab bleeding</td>\n",
              "      <td>Hepatomegaly</td>\n",
              "      <td>Ascifes</td>\n",
              "      <td>Death</td>\n",
              "      <td>Dengue</td>\n",
              "    </tr>\n",
              "    <tr>\n",
              "      <th>10</th>\n",
              "      <td>Fever</td>\n",
              "      <td>Reorbital pain</td>\n",
              "      <td>Myalgra</td>\n",
              "      <td>Break Bone Fever</td>\n",
              "      <td>Nausea</td>\n",
              "      <td>Dehydration</td>\n",
              "      <td>Rash</td>\n",
              "      <td>Mucosab bleeding</td>\n",
              "      <td>Hepatomegaly</td>\n",
              "      <td>Death</td>\n",
              "      <td>0</td>\n",
              "      <td>Dengue</td>\n",
              "    </tr>\n",
              "    <tr>\n",
              "      <th>11</th>\n",
              "      <td>Fever</td>\n",
              "      <td>Reorbital pain</td>\n",
              "      <td>Myalgra</td>\n",
              "      <td>Break Bone Fever</td>\n",
              "      <td>Nausea</td>\n",
              "      <td>Dehydration</td>\n",
              "      <td>Rash</td>\n",
              "      <td>Mucosab bleeding</td>\n",
              "      <td>Ascifes</td>\n",
              "      <td>Death</td>\n",
              "      <td>0</td>\n",
              "      <td>Dengue</td>\n",
              "    </tr>\n",
              "    <tr>\n",
              "      <th>12</th>\n",
              "      <td>Fever</td>\n",
              "      <td>Reorbital pain</td>\n",
              "      <td>Myalgra</td>\n",
              "      <td>Break Bone Fever</td>\n",
              "      <td>Nausea</td>\n",
              "      <td>Dehydration</td>\n",
              "      <td>Rash</td>\n",
              "      <td>Mucosab bleeding</td>\n",
              "      <td>Ascifes</td>\n",
              "      <td>0</td>\n",
              "      <td>0</td>\n",
              "      <td>Dengue</td>\n",
              "    </tr>\n",
              "    <tr>\n",
              "      <th>13</th>\n",
              "      <td>Fever</td>\n",
              "      <td>Reorbital pain</td>\n",
              "      <td>Myalgra</td>\n",
              "      <td>Break Bone Fever</td>\n",
              "      <td>Nausea</td>\n",
              "      <td>Dehydration</td>\n",
              "      <td>Rash</td>\n",
              "      <td>Hepatomegaly</td>\n",
              "      <td>Ascifes</td>\n",
              "      <td>Death</td>\n",
              "      <td>0</td>\n",
              "      <td>Dengue</td>\n",
              "    </tr>\n",
              "    <tr>\n",
              "      <th>14</th>\n",
              "      <td>Fever</td>\n",
              "      <td>Reorbital pain</td>\n",
              "      <td>Myalgra</td>\n",
              "      <td>Break Bone Fever</td>\n",
              "      <td>Nausea</td>\n",
              "      <td>Dehydration</td>\n",
              "      <td>Rash</td>\n",
              "      <td>Hepatomegaly</td>\n",
              "      <td>Death</td>\n",
              "      <td>0</td>\n",
              "      <td>0</td>\n",
              "      <td>Dengue</td>\n",
              "    </tr>\n",
              "    <tr>\n",
              "      <th>15</th>\n",
              "      <td>Fever</td>\n",
              "      <td>Reorbital pain</td>\n",
              "      <td>Myalgra</td>\n",
              "      <td>Break Bone Fever</td>\n",
              "      <td>Nausea</td>\n",
              "      <td>Dehydration</td>\n",
              "      <td>Rash</td>\n",
              "      <td>Ascifes</td>\n",
              "      <td>Death</td>\n",
              "      <td>0</td>\n",
              "      <td>0</td>\n",
              "      <td>Dengue</td>\n",
              "    </tr>\n",
              "  </tbody>\n",
              "</table>\n",
              "</div>"
            ],
            "text/plain": [
              "   symptom_1       symptom_2 symptom_3  ...    symptom_10 symptom_11 Diseases Name\n",
              "1      Fever  Reorbital pain   Myalgra  ...  Hepatomegaly    Ascifes        Dengue\n",
              "2      Fever  Reorbital pain   Myalgra  ...  Hepatomegaly      Death        Dengue\n",
              "3      Fever  Reorbital pain   Myalgra  ...       Ascifes      Death        Dengue\n",
              "4      Fever  Reorbital pain   Myalgra  ...         Death          0        Dengue\n",
              "5      Fever  Reorbital pain   Myalgra  ...       Ascifes      Death        Dengue\n",
              "6      Fever  Reorbital pain   Myalgra  ...         Death          0        Dengue\n",
              "7      Fever  Reorbital pain   Myalgra  ...         Death          0        Dengue\n",
              "8      Fever  Reorbital pain   Myalgra  ...             0          0        Dengue\n",
              "9      Fever  Reorbital pain   Myalgra  ...       Ascifes      Death        Dengue\n",
              "10     Fever  Reorbital pain   Myalgra  ...         Death          0        Dengue\n",
              "11     Fever  Reorbital pain   Myalgra  ...         Death          0        Dengue\n",
              "12     Fever  Reorbital pain   Myalgra  ...             0          0        Dengue\n",
              "13     Fever  Reorbital pain   Myalgra  ...         Death          0        Dengue\n",
              "14     Fever  Reorbital pain   Myalgra  ...             0          0        Dengue\n",
              "15     Fever  Reorbital pain   Myalgra  ...             0          0        Dengue\n",
              "\n",
              "[15 rows x 12 columns]"
            ]
          },
          "metadata": {
            "tags": []
          },
          "execution_count": 12
        }
      ]
    },
    {
      "cell_type": "code",
      "metadata": {
        "id": "6R3M9nymveeP"
      },
      "source": [
        "dic={'Fever':1,'Reorbital pain':2,'Myalgra':3,'Break Bone Fever':4,'Nausea':5,'Dehydration':6,'Rash':7,'Restlessness':8,\n",
        "     'Mucosab bleeding':9,'Hepatomegaly':10,'Ascifes':11,'Lock jaw':12,'Ophisthonus':13,'Respiratory Depression':14,\n",
        "     'Laryngospsam':15,'Pulmonary Ebolism':16,'Fracture Cervical Vertebrae':17,'Aspiration pneumonia':18,'Step Ladder':19,\n",
        "     'Constipation':20,'Abdominal Distension':21,'Pea-Soup Diarrhoea':22,'Rose Spots':23,'Splenomegaly':24,'Haemorrhage':25,'Perforation':26,\n",
        "     'Cold Fever':27,'Hot Fever':28,'Sweating stage':29,'Aneamia':30,'Acute Gastroenteritis':31,'Cerebral Malaria':32,'Black water fever':33,\n",
        "     'Cough':34,'Techypnea':35,'Chest-in-drawing':36,'Nasal flaring':37,'Inability to feed':38,'Stridor':39,'Convulsion':40,'Somnolence':41,\n",
        "     'Cold':42,'Chest pain':43,'Sputum':44,'No Appetite':45,'Empyema':46,'Pleural Effision':47,'Amyloidosis':48,'Headache':49,'Vomiting':50,\n",
        "     'Backache':51,'Vesicle':52,'Pustules':53,'Scabs':54,'Pock Marks':55,'Malaise':56,'Coryza':57,'Koplik spots':58,'Rash behind ear':59,'weakness':60,\n",
        "     'Diarrhoea':61,'Otitis media':62,'Pneumonia':63,'Body ache':64,'Vesicular rash':65,'Anorexia':66,'Jaundice':67}"
      ],
      "execution_count": null,
      "outputs": []
    },
    {
      "cell_type": "code",
      "metadata": {
        "id": "UOFmkGtZvhQ8"
      },
      "source": [
        "data=data.replace('Death',0)\n",
        "data=data.replace('Chest in-drawing',36)\n",
        "data=data.replace('Dengue',1)\n",
        "data=data.replace('Tetanus',2)\n",
        "data=data.replace('Typhiod',3)\n",
        "data=data.replace('Malaria',4)\n",
        "data=data.replace('Accute Respiratory illness',5)\n",
        "data=data.replace('Tuberculosis',6)\n",
        "data=data.replace('Small Pox',7)\n",
        "data=data.replace('Measles',8)\n",
        "data=data.replace('Chicken Pox',9)\n",
        "data=data.replace('Hepatitis B',10)\n",
        "\n"
      ],
      "execution_count": null,
      "outputs": []
    },
    {
      "cell_type": "code",
      "metadata": {
        "id": "JvVq5J_f_kQU"
      },
      "source": [
        "disease={1:'Dengue',2:'Tetanus',3:'Typhiod',4:'Malaria',5:'Accute Respiratory illness',6:'Tuberculosis',7:'Small Pox',8:'Measles',9:'Chicken Pox',10:'Hepatitis B'}"
      ],
      "execution_count": null,
      "outputs": []
    },
    {
      "cell_type": "code",
      "metadata": {
        "id": "u6JZfit0vjzk"
      },
      "source": [
        "\n",
        "for i in dic:\n",
        "  data=data.replace([i],dic[i])"
      ],
      "execution_count": null,
      "outputs": []
    },
    {
      "cell_type": "code",
      "metadata": {
        "colab": {
          "base_uri": "https://localhost:8080/",
          "height": 359
        },
        "id": "JpeH6w1Tz8oc",
        "outputId": "d6e2a04f-9afc-4286-a022-7409d59006b3"
      },
      "source": [
        "data.head(10)"
      ],
      "execution_count": null,
      "outputs": [
        {
          "output_type": "execute_result",
          "data": {
            "text/html": [
              "<div>\n",
              "<style scoped>\n",
              "    .dataframe tbody tr th:only-of-type {\n",
              "        vertical-align: middle;\n",
              "    }\n",
              "\n",
              "    .dataframe tbody tr th {\n",
              "        vertical-align: top;\n",
              "    }\n",
              "\n",
              "    .dataframe thead th {\n",
              "        text-align: right;\n",
              "    }\n",
              "</style>\n",
              "<table border=\"1\" class=\"dataframe\">\n",
              "  <thead>\n",
              "    <tr style=\"text-align: right;\">\n",
              "      <th></th>\n",
              "      <th>symptom_1</th>\n",
              "      <th>symptom_2</th>\n",
              "      <th>symptom_3</th>\n",
              "      <th>symptom_4</th>\n",
              "      <th>symptom_5</th>\n",
              "      <th>symptom_6</th>\n",
              "      <th>symptom_7</th>\n",
              "      <th>symptom_8</th>\n",
              "      <th>symptom_9</th>\n",
              "      <th>symptom_10</th>\n",
              "      <th>symptom_11</th>\n",
              "      <th>Diseases Name</th>\n",
              "    </tr>\n",
              "  </thead>\n",
              "  <tbody>\n",
              "    <tr>\n",
              "      <th>1</th>\n",
              "      <td>1</td>\n",
              "      <td>2</td>\n",
              "      <td>3</td>\n",
              "      <td>4</td>\n",
              "      <td>5</td>\n",
              "      <td>6</td>\n",
              "      <td>7</td>\n",
              "      <td>8</td>\n",
              "      <td>9</td>\n",
              "      <td>10</td>\n",
              "      <td>11</td>\n",
              "      <td>1</td>\n",
              "    </tr>\n",
              "    <tr>\n",
              "      <th>2</th>\n",
              "      <td>1</td>\n",
              "      <td>2</td>\n",
              "      <td>3</td>\n",
              "      <td>4</td>\n",
              "      <td>5</td>\n",
              "      <td>6</td>\n",
              "      <td>7</td>\n",
              "      <td>8</td>\n",
              "      <td>9</td>\n",
              "      <td>10</td>\n",
              "      <td>0</td>\n",
              "      <td>1</td>\n",
              "    </tr>\n",
              "    <tr>\n",
              "      <th>3</th>\n",
              "      <td>1</td>\n",
              "      <td>2</td>\n",
              "      <td>3</td>\n",
              "      <td>4</td>\n",
              "      <td>5</td>\n",
              "      <td>6</td>\n",
              "      <td>7</td>\n",
              "      <td>8</td>\n",
              "      <td>9</td>\n",
              "      <td>11</td>\n",
              "      <td>0</td>\n",
              "      <td>1</td>\n",
              "    </tr>\n",
              "    <tr>\n",
              "      <th>4</th>\n",
              "      <td>1</td>\n",
              "      <td>2</td>\n",
              "      <td>3</td>\n",
              "      <td>4</td>\n",
              "      <td>5</td>\n",
              "      <td>6</td>\n",
              "      <td>7</td>\n",
              "      <td>8</td>\n",
              "      <td>9</td>\n",
              "      <td>0</td>\n",
              "      <td>0</td>\n",
              "      <td>1</td>\n",
              "    </tr>\n",
              "    <tr>\n",
              "      <th>5</th>\n",
              "      <td>1</td>\n",
              "      <td>2</td>\n",
              "      <td>3</td>\n",
              "      <td>4</td>\n",
              "      <td>5</td>\n",
              "      <td>6</td>\n",
              "      <td>7</td>\n",
              "      <td>8</td>\n",
              "      <td>10</td>\n",
              "      <td>11</td>\n",
              "      <td>0</td>\n",
              "      <td>1</td>\n",
              "    </tr>\n",
              "    <tr>\n",
              "      <th>6</th>\n",
              "      <td>1</td>\n",
              "      <td>2</td>\n",
              "      <td>3</td>\n",
              "      <td>4</td>\n",
              "      <td>5</td>\n",
              "      <td>6</td>\n",
              "      <td>7</td>\n",
              "      <td>8</td>\n",
              "      <td>10</td>\n",
              "      <td>0</td>\n",
              "      <td>0</td>\n",
              "      <td>1</td>\n",
              "    </tr>\n",
              "    <tr>\n",
              "      <th>7</th>\n",
              "      <td>1</td>\n",
              "      <td>2</td>\n",
              "      <td>3</td>\n",
              "      <td>4</td>\n",
              "      <td>5</td>\n",
              "      <td>6</td>\n",
              "      <td>7</td>\n",
              "      <td>8</td>\n",
              "      <td>11</td>\n",
              "      <td>0</td>\n",
              "      <td>0</td>\n",
              "      <td>1</td>\n",
              "    </tr>\n",
              "    <tr>\n",
              "      <th>8</th>\n",
              "      <td>1</td>\n",
              "      <td>2</td>\n",
              "      <td>3</td>\n",
              "      <td>4</td>\n",
              "      <td>5</td>\n",
              "      <td>6</td>\n",
              "      <td>7</td>\n",
              "      <td>8</td>\n",
              "      <td>0</td>\n",
              "      <td>0</td>\n",
              "      <td>0</td>\n",
              "      <td>1</td>\n",
              "    </tr>\n",
              "    <tr>\n",
              "      <th>9</th>\n",
              "      <td>1</td>\n",
              "      <td>2</td>\n",
              "      <td>3</td>\n",
              "      <td>4</td>\n",
              "      <td>5</td>\n",
              "      <td>6</td>\n",
              "      <td>7</td>\n",
              "      <td>9</td>\n",
              "      <td>10</td>\n",
              "      <td>11</td>\n",
              "      <td>0</td>\n",
              "      <td>1</td>\n",
              "    </tr>\n",
              "    <tr>\n",
              "      <th>10</th>\n",
              "      <td>1</td>\n",
              "      <td>2</td>\n",
              "      <td>3</td>\n",
              "      <td>4</td>\n",
              "      <td>5</td>\n",
              "      <td>6</td>\n",
              "      <td>7</td>\n",
              "      <td>9</td>\n",
              "      <td>10</td>\n",
              "      <td>0</td>\n",
              "      <td>0</td>\n",
              "      <td>1</td>\n",
              "    </tr>\n",
              "  </tbody>\n",
              "</table>\n",
              "</div>"
            ],
            "text/plain": [
              "    symptom_1  symptom_2  symptom_3  ...  symptom_10  symptom_11  Diseases Name\n",
              "1           1          2          3  ...          10          11              1\n",
              "2           1          2          3  ...          10           0              1\n",
              "3           1          2          3  ...          11           0              1\n",
              "4           1          2          3  ...           0           0              1\n",
              "5           1          2          3  ...          11           0              1\n",
              "6           1          2          3  ...           0           0              1\n",
              "7           1          2          3  ...           0           0              1\n",
              "8           1          2          3  ...           0           0              1\n",
              "9           1          2          3  ...          11           0              1\n",
              "10          1          2          3  ...           0           0              1\n",
              "\n",
              "[10 rows x 12 columns]"
            ]
          },
          "metadata": {
            "tags": []
          },
          "execution_count": 17
        }
      ]
    },
    {
      "cell_type": "code",
      "metadata": {
        "colab": {
          "base_uri": "https://localhost:8080/"
        },
        "id": "RUgNrCxPvmQk",
        "outputId": "e9b06869-006e-44df-e7fb-b89be8bdd3d3"
      },
      "source": [
        "data['Diseases Name']"
      ],
      "execution_count": null,
      "outputs": [
        {
          "output_type": "execute_result",
          "data": {
            "text/plain": [
              "1      1\n",
              "2      1\n",
              "3      1\n",
              "4      1\n",
              "5      1\n",
              "      ..\n",
              "675    0\n",
              "676    0\n",
              "677    0\n",
              "678    0\n",
              "679    0\n",
              "Name: Diseases Name, Length: 679, dtype: int64"
            ]
          },
          "metadata": {
            "tags": []
          },
          "execution_count": 18
        }
      ]
    },
    {
      "cell_type": "code",
      "metadata": {
        "id": "iunQERg-voH2"
      },
      "source": [
        "features=data.iloc[:,:12].values\n",
        "labels=data['Diseases Name'].values"
      ],
      "execution_count": null,
      "outputs": []
    },
    {
      "cell_type": "code",
      "metadata": {
        "id": "Cug8hoilvrJD"
      },
      "source": [
        "import matplotlib.pyplot as plt\n",
        "import numpy as np\n",
        "from sklearn.model_selection import train_test_split\n",
        "from sklearn.svm import SVC\n",
        "from sklearn.metrics import f1_score, accuracy_score, confusion_matrix,precision_score, recall_score ,plot_confusion_matrix\n",
        "import seaborn as sn"
      ],
      "execution_count": null,
      "outputs": []
    },
    {
      "cell_type": "code",
      "metadata": {
        "colab": {
          "base_uri": "https://localhost:8080/"
        },
        "id": "eIEMuzBUwO1d",
        "outputId": "65533636-32f2-412d-9f19-700ec0342cff"
      },
      "source": [
        "x_train, x_test, y_train, y_test= train_test_split(features, labels,shuffle=True,train_size=0.80)\n",
        "print(x_train.shape,x_test.shape)"
      ],
      "execution_count": null,
      "outputs": [
        {
          "output_type": "stream",
          "text": [
            "(543, 12) (136, 12)\n"
          ],
          "name": "stdout"
        }
      ]
    },
    {
      "cell_type": "code",
      "metadata": {
        "colab": {
          "base_uri": "https://localhost:8080/"
        },
        "id": "fZVKn_VrwRUo",
        "outputId": "b58c2c93-fb75-496e-aed7-30d3d1542223"
      },
      "source": [
        "model=SVC()\n",
        "model.fit(x_train,y_train)"
      ],
      "execution_count": null,
      "outputs": [
        {
          "output_type": "execute_result",
          "data": {
            "text/plain": [
              "SVC(C=1.0, break_ties=False, cache_size=200, class_weight=None, coef0=0.0,\n",
              "    decision_function_shape='ovr', degree=3, gamma='scale', kernel='rbf',\n",
              "    max_iter=-1, probability=False, random_state=None, shrinking=True,\n",
              "    tol=0.001, verbose=False)"
            ]
          },
          "metadata": {
            "tags": []
          },
          "execution_count": 22
        }
      ]
    },
    {
      "cell_type": "code",
      "metadata": {
        "colab": {
          "base_uri": "https://localhost:8080/"
        },
        "id": "WBQB38m0wZro",
        "outputId": "ba1a5b14-c5d0-436c-e687-7e0ef9276d4e"
      },
      "source": [
        "preds= model.predict(x_test)\n",
        "preds"
      ],
      "execution_count": null,
      "outputs": [
        {
          "output_type": "execute_result",
          "data": {
            "text/plain": [
              "array([ 1,  1,  1,  7,  4,  4, 10,  4,  3,  6,  6,  1,  0,  0,  5,  0,  0,\n",
              "        1,  5,  1,  1,  1,  2,  5,  5,  1,  4,  4,  5,  0,  4,  0,  0,  6,\n",
              "        5,  4,  0,  4,  0,  6,  0,  4,  1,  4,  4,  5,  0, 10,  0,  1,  5,\n",
              "        6,  4,  1,  1,  4,  2,  5,  0,  5,  5,  4,  6,  0, 10,  0,  1,  5,\n",
              "        5,  4,  4,  4,  3,  5,  1,  6,  6,  6, 10,  5,  4,  5,  0,  5,  4,\n",
              "        1,  6,  1,  1,  2,  5,  1,  1,  1,  1,  5,  1,  8,  0,  1,  6,  6,\n",
              "        5,  6,  5,  8,  0,  4,  1,  5,  6,  1,  0, 10,  1,  4,  5,  4,  4,\n",
              "       10, 10,  6,  6,  5,  0,  6,  4,  1, 10,  1,  4,  6,  3,  5,  8,  1])"
            ]
          },
          "metadata": {
            "tags": []
          },
          "execution_count": 23
        }
      ]
    },
    {
      "cell_type": "code",
      "metadata": {
        "colab": {
          "base_uri": "https://localhost:8080/",
          "height": 283
        },
        "id": "ZVcLGrrRwc8-",
        "outputId": "e94e9484-94aa-43c1-8dfc-16a1d9b5e4fd"
      },
      "source": [
        "conf_mat=confusion_matrix(y_test,preds)\n",
        "conf_mat\n",
        "plot_confusion_matrix(model, x_test, y_test)  \n",
        "plt.show()  \n"
      ],
      "execution_count": null,
      "outputs": [
        {
          "output_type": "display_data",
          "data": {
            "image/png": "[encoded data removed]",
            "text/plain": [
              "<Figure size 432x288 with 2 Axes>"
            ]
          },
          "metadata": {
            "tags": []
          }
        }
      ]
    },
    {
      "cell_type": "code",
      "metadata": {
        "colab": {
          "base_uri": "https://localhost:8080/"
        },
        "id": "KHQ5HUO7wlvd",
        "outputId": "b4ce38ea-7fc1-4788-fef4-cbc5270bf149"
      },
      "source": [
        "accuracy_score(y_test,preds)*100\n"
      ],
      "execution_count": null,
      "outputs": [
        {
          "output_type": "execute_result",
          "data": {
            "text/plain": [
              "97.05882352941177"
            ]
          },
          "metadata": {
            "tags": []
          },
          "execution_count": 25
        }
      ]
    },
    {
      "cell_type": "code",
      "metadata": {
        "colab": {
          "base_uri": "https://localhost:8080/"
        },
        "id": "TojUsO3luqvu",
        "outputId": "67b2b33c-3191-4d87-e3c8-0cb5fcb86134"
      },
      "source": [
        "f1_score(y_test, preds, average='macro')*100"
      ],
      "execution_count": null,
      "outputs": [
        {
          "output_type": "execute_result",
          "data": {
            "text/plain": [
              "96.18863674777023"
            ]
          },
          "metadata": {
            "tags": []
          },
          "execution_count": 26
        }
      ]
    },
    {
      "cell_type": "code",
      "metadata": {
        "colab": {
          "base_uri": "https://localhost:8080/"
        },
        "id": "v7uLaQ6MwkRP",
        "outputId": "c07be924-d6bb-453e-fdd1-c84eb00af4f1"
      },
      "source": [
        "precision_score(y_test, preds, average='macro',zero_division='warn')*100"
      ],
      "execution_count": null,
      "outputs": [
        {
          "output_type": "execute_result",
          "data": {
            "text/plain": [
              "98.3"
            ]
          },
          "metadata": {
            "tags": []
          },
          "execution_count": 27
        }
      ]
    },
    {
      "cell_type": "code",
      "metadata": {
        "colab": {
          "base_uri": "https://localhost:8080/"
        },
        "id": "Sowg98Ayxn73",
        "outputId": "e720c846-8efe-47ec-cb22-ff354d42e0a3"
      },
      "source": [
        "recall_score(y_test,preds,average='macro')*100"
      ],
      "execution_count": null,
      "outputs": [
        {
          "output_type": "execute_result",
          "data": {
            "text/plain": [
              "95.15110356536503"
            ]
          },
          "metadata": {
            "tags": []
          },
          "execution_count": 28
        }
      ]
    },
    {
      "cell_type": "code",
      "metadata": {
        "colab": {
          "background_save": true,
          "base_uri": "https://localhost:8080/"
        },
        "id": "S1GpPctLyer1",
        "outputId": "0af85dd2-19d5-410d-bd48-6b258e414470"
      },
      "source": [
        "l=[]\n",
        "n=0\n",
        "print(\"Enter atleat three symptoms\")\n",
        "while 1:\n",
        "  x=input()\n",
        "  if x in dic:\n",
        "    l.append(dic[x])\n",
        "  n+=1\n",
        "  t=input(\"Press 1 to continue / 0 to stop\")\n",
        "  if(t=='0'):\n",
        "    break\n",
        "for i in range(n,12):\n",
        "  l.append(0)\n",
        "lst=[]\n",
        "lst.append(l)\n",
        "array_list=np.array(lst)\n",
        "array_list"
      ],
      "execution_count": null,
      "outputs": [
        {
          "output_type": "stream",
          "text": [
            "Enter atleat three symptoms\n"
          ],
          "name": "stdout"
        }
      ]
    },
    {
      "cell_type": "code",
      "metadata": {
        "id": "fcrtTSEqKwTs"
      },
      "source": [
        "preds= model.predict(array_list)\n",
        "preds"
      ],
      "execution_count": null,
      "outputs": []
    },
    {
      "cell_type": "code",
      "metadata": {
        "colab": {
          "base_uri": "https://localhost:8080/"
        },
        "id": "ffHOnzq31GEa",
        "outputId": "24bc9444-7d04-4e74-b857-c1d1ff092251"
      },
      "source": [
        "x=preds[0]\n",
        "if x==0:\n",
        "  print(\"You have Mild symptoms ,you need to take rest\")\n",
        "else:\n",
        "  print(\"You have symptoms of : \"+disease[x] )\n",
        "  print(\"You need to consult with doctor\")"
      ],
      "execution_count": null,
      "outputs": [
        {
          "output_type": "stream",
          "text": [
            "You have symptoms of : Dengue\n",
            "You need to consult with doctor\n"
          ],
          "name": "stdout"
        }
      ]
    },
    {
      "cell_type": "code",
      "metadata": {
        "id": "o2wXG1BuLMk5"
      },
      "source": [
        ""
      ],
      "execution_count": null,
      "outputs": []
    }
  ]
}